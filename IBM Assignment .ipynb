{
 "cells": [
  {
   "cell_type": "markdown",
   "id": "3bf2d4cf",
   "metadata": {},
   "source": [
    "# My Jupyter Notebook on IBM Watson Studio "
   ]
  },
  {
   "cell_type": "markdown",
   "id": "e694bf2a",
   "metadata": {},
   "source": [
    "## Somnath Mugdal\n",
    "Data Scientist"
   ]
  },
  {
   "cell_type": "markdown",
   "id": "f5711ed5",
   "metadata": {},
   "source": [
    "*I am interested in Data Science because I like the data manipulation, visualization and also I like to play with data in different ways.*"
   ]
  },
  {
   "cell_type": "markdown",
   "id": "812e5016",
   "metadata": {},
   "source": [
    "### The below should be print \"Somnath Mugdal\""
   ]
  },
  {
   "cell_type": "code",
   "execution_count": 2,
   "id": "ba7a4ef9",
   "metadata": {},
   "outputs": [
    {
     "name": "stdout",
     "output_type": "stream",
     "text": [
      "Somnath Mugdal\n"
     ]
    }
   ],
   "source": [
    "print(\"Somnath Mugdal\")"
   ]
  },
  {
   "cell_type": "markdown",
   "id": "a5653e63",
   "metadata": {},
   "source": [
    "### Horizontal Rule\n",
    "\n",
    "***\n",
    "This is Horizontal Rule\n",
    "***\n",
    "\n",
    "### Hyperlinks\n",
    "This is the <a href=\"https://www.google.co.in/\" target= \"_blank\"> Google</a> Link \n",
    "\n",
    "### Images\n",
    "![Data Scientist Skills.](https://cdn.educba.com/academy/wp-content/uploads/2019/10/Data-Scientist-Skills.png)"
   ]
  },
  {
   "cell_type": "code",
   "execution_count": null,
   "id": "a771a379",
   "metadata": {},
   "outputs": [],
   "source": []
  }
 ],
 "metadata": {
  "kernelspec": {
   "display_name": "Python 3 (ipykernel)",
   "language": "python",
   "name": "python3"
  },
  "language_info": {
   "codemirror_mode": {
    "name": "ipython",
    "version": 3
   },
   "file_extension": ".py",
   "mimetype": "text/x-python",
   "name": "python",
   "nbconvert_exporter": "python",
   "pygments_lexer": "ipython3",
   "version": "3.9.7"
  }
 },
 "nbformat": 4,
 "nbformat_minor": 5
}
